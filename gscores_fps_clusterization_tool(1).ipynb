{
 "cells": [
  {
   "cell_type": "code",
   "execution_count": 96,
   "id": "31039ca5-9c63-4860-af80-db64d19a1ba5",
   "metadata": {},
   "outputs": [],
   "source": [
    "!pip install -q rdkit"
   ]
  },
  {
   "cell_type": "code",
   "execution_count": 97,
   "id": "6820941c-baee-43b5-b817-91b408e10518",
   "metadata": {},
   "outputs": [],
   "source": [
    "import pandas as pd\n",
    "import numpy as np\n",
    "from sklearn.cluster import KMeans\n",
    "\n",
    "from rdkit import Chem\n",
    "from rdkit.Chem.AllChem import GetMorganGenerator"
   ]
  },
  {
   "cell_type": "code",
   "execution_count": 98,
   "id": "39bc0674-a8d5-44fc-8cdc-060dc07becd0",
   "metadata": {},
   "outputs": [],
   "source": [
    "#As a separator I have used semicolon (sep=';'), but perhpas You may have to change it (e.g. for comma, which is default separator in pd.read_csv())\n",
    "\n",
    "data_qikprop = pd.read_csv(r\"filepath\\qikprop.csv\", sep=';')  #filepath to .csv file with qikprop output from Schrodinger Maestro Suite\n",
    "data_cns = pd.read_csv(r\"filepath\\cns_mpo.csv\", sep=';')  #filepath to .csv file with CNS MPO output (calculator availble at https://github.com/Adam-maz/CNS_MPO_calculator)\n",
    "data_gscore = pd.read_csv(r\"filepath\\gscores.csv\", sep=';')  #filepath to .csv file with glide gscores from Schrodinger Maestro Suite.\n",
    "                                                             #ensure that You have collected glide gscores with appropriate SMILES (as column)\n",
    "\n",
    "df_qikprop = pd.DataFrame(data_qikprop)\n",
    "df_cns = pd.DataFrame(data_cns)\n",
    "df_gscore = pd.DataFrame(data_gscore)\n",
    "\n",
    "df_gscore = df_gscore.drop_duplicates(subset=['Id'], keep='first')"
   ]
  },
  {
   "cell_type": "code",
   "execution_count": 99,
   "id": "3fbfbb0e-0140-49a9-9c55-8da686683868",
   "metadata": {},
   "outputs": [],
   "source": [
    "merged_df1 = pd.merge(df_cns, df_qikprop, on='Id')  #ensure that 'Id' is a common name for columns with molecules identificators within dataframes\n",
    "merged_df_final = pd.merge(merged_df1, df_gscore, on='Id')  #ensure that 'Id' is a common name for columns with molecules identificators, within dataframes\n",
    "merged_df_final = merged_df_final.drop(columns=['pKa_y'])\n",
    "merged_df_final = merged_df_final.rename(columns={'pKa_x': 'pKa'})"
   ]
  },
  {
   "cell_type": "code",
   "execution_count": 100,
   "id": "e7fa82ca-b9ab-4541-a0ff-88e2698d5d51",
   "metadata": {},
   "outputs": [],
   "source": [
    "fps_generator = GetMorganGenerator()\n",
    "merged_df_final['Morgan_fps'] = merged_df_final['Smiles'].apply(lambda x: fps_generator.GetFingerprint(Chem.MolFromSmiles(x)))\n",
    "\n",
    "ids = merged_df_final['Id']"
   ]
  },
  {
   "cell_type": "code",
   "execution_count": 101,
   "id": "44219f3d-7bbf-4ed8-8acb-09b4c6f03ada",
   "metadata": {},
   "outputs": [],
   "source": [
    "binary_array = np.array([list(map(int, bin_str)) for bin_str in merged_df_final.iloc[:, -1]])\n",
    "gscore_array = np.array(merged_df_final['glide gscore']).reshape(-1,1)\n",
    "final_array = np.hstack((gscore_array, binary_array))"
   ]
  },
  {
   "cell_type": "code",
   "execution_count": 102,
   "id": "acf394a9-47d4-4231-9485-31c3e272e3b2",
   "metadata": {},
   "outputs": [],
   "source": [
    "seeds_list = [13, 42, 71] #to make assay more accurate and robust I decided to use 3 different seeds and subsequently collect intersection of obtained 3 collections\n",
    "results = {13: {}, 42: {}, 71: {}}\n",
    "\n",
    "for seed in seeds_list:\n",
    "    kmeans = KMeans(n_clusters=4, random_state=seed) #the value of n_clusters depends on Your needs\n",
    "    kmeans.fit(final_array)\n",
    "    y_kmeans = kmeans.predict(final_array)\n",
    "\n",
    "    for idx, cluster in zip(ids, y_kmeans):\n",
    "        results[seed][idx] = cluster"
   ]
  },
  {
   "cell_type": "code",
   "execution_count": 106,
   "id": "5d68a744-432c-4c13-9e7d-1f55452544db",
   "metadata": {},
   "outputs": [
    {
     "ename": "KeyError",
     "evalue": "'referent_compound'",
     "output_type": "error",
     "traceback": [
      "\u001b[1;31m---------------------------------------------------------------------------\u001b[0m",
      "\u001b[1;31mKeyError\u001b[0m                                  Traceback (most recent call last)",
      "Cell \u001b[1;32mIn[106], line 1\u001b[0m\n\u001b[1;32m----> 1\u001b[0m referent_cluster \u001b[38;5;241m=\u001b[39m results[\u001b[38;5;241m13\u001b[39m][\u001b[38;5;124m'\u001b[39m\u001b[38;5;124mreferent_compound\u001b[39m\u001b[38;5;124m'\u001b[39m]\n\u001b[0;32m      2\u001b[0m \u001b[38;5;28mprint\u001b[39m(\u001b[38;5;124mf\u001b[39m\u001b[38;5;124m'\u001b[39m\u001b[38;5;124mReferent cluster, seed 13: \u001b[39m\u001b[38;5;132;01m{\u001b[39;00mreferent_cluster\u001b[38;5;132;01m}\u001b[39;00m\u001b[38;5;124m'\u001b[39m)\n\u001b[0;32m      3\u001b[0m list_with_referent_cluster_cpds_seed_13 \u001b[38;5;241m=\u001b[39m [key \u001b[38;5;28;01mfor\u001b[39;00m key, value \u001b[38;5;129;01min\u001b[39;00m results[\u001b[38;5;241m13\u001b[39m]\u001b[38;5;241m.\u001b[39mitems() \u001b[38;5;28;01mif\u001b[39;00m value \u001b[38;5;241m==\u001b[39m referent_cluster]\n",
      "\u001b[1;31mKeyError\u001b[0m: 'referent_compound'"
     ]
    }
   ],
   "source": [
    "referent_cluster = results[13]['referent_compound']\n",
    "print(f'Referent cluster, seed 13: {referent_cluster}')\n",
    "list_with_referent_cluster_cpds_seed_13 = [key for key, value in results[13].items() if value == referent_cluster]\n",
    "\n",
    "referent_cluster = results[42]['referent_compound']\n",
    "print(f'Referent cluster, seed 42: {referent_cluster}')\n",
    "list_with_referent_cluster_cpds_seed_42 = [key for key, value in results[42].items() if value == referent_cluster]\n",
    "\n",
    "referent_cluster = results[71]['referent_compound']\n",
    "print(f'Referent cluster, seed 71: {referent_cluster}')\n",
    "list_with_referent_cluster_cpds_seed_71 = [key for key, value in results[71].items() if value == referent_cluster]"
   ]
  },
  {
   "cell_type": "code",
   "execution_count": 104,
   "id": "d0cc0380-b5a1-4750-936a-e0e81ff3d396",
   "metadata": {},
   "outputs": [],
   "source": [
    "common_cpds = set(list_with_referent_cluster_cpds_seed_13) & set(list_with_referent_cluster_cpds_seed_42) & set(list_with_referent_cluster_cpds_seed_71)\n",
    "common_cpds = list(common_cpds)"
   ]
  },
  {
   "cell_type": "code",
   "execution_count": 105,
   "id": "0dcc32dd-34af-476d-9da7-cd0db4eb10d3",
   "metadata": {},
   "outputs": [],
   "source": [
    "df_out = pd.DataFrame(common_cpds, columns=['Id'])\n",
    "output = pd.merge(merged_df_final, df_out, on='Id', how='inner')\n",
    "\n",
    "output.to_csv(r\"filepath\\cluster_analysis_output.csv\", sep=';', index=False)"
   ]
  }
 ],
 "metadata": {
  "kernelspec": {
   "display_name": "Python 3 (ipykernel)",
   "language": "python",
   "name": "python3"
  },
  "language_info": {
   "codemirror_mode": {
    "name": "ipython",
    "version": 3
   },
   "file_extension": ".py",
   "mimetype": "text/x-python",
   "name": "python",
   "nbconvert_exporter": "python",
   "pygments_lexer": "ipython3",
   "version": "3.12.7"
  }
 },
 "nbformat": 4,
 "nbformat_minor": 5
}
